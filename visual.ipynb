{
 "cells": [
  {
   "cell_type": "code",
   "execution_count": 1,
   "metadata": {},
   "outputs": [],
   "source": [
    "import numpy as np\n",
    "from matplotlib import pyplot as plt\n",
    "import ctypes\n",
    "from ctypes import POINTER, c_int, c_double, c_void_p, c_char_p\n",
    "import sys\n",
    "\n",
    "%matplotlib inline"
   ]
  },
  {
   "cell_type": "code",
   "execution_count": 2,
   "metadata": {},
   "outputs": [],
   "source": [
    "lib = ctypes.CDLL(\"./main.so\")\n",
    "lib.parse.restype = c_void_p"
   ]
  },
  {
   "cell_type": "code",
   "execution_count": 3,
   "metadata": {},
   "outputs": [],
   "source": [
    "def call_func(func, fs, n, h, x0, y0):\n",
    "    out_x = np.zeros(n, dtype=np.float64)\n",
    "    out_y = np.zeros(n, dtype=np.float64)\n",
    "    ptr_x = out_x.__array_interface__['data'][0]\n",
    "    ptr_y = out_y.__array_interface__['data'][0]\n",
    "    f = lib.parse(fs)\n",
    "    func.argtypes = [c_void_p, c_int, c_double, c_double, c_double, c_void_p, c_void_p]\n",
    "    func(f, n, h, x0, y0, ptr_x, ptr_y)\n",
    "    return ptr_x"
   ]
  },
  {
   "cell_type": "code",
   "execution_count": 4,
   "metadata": {},
   "outputs": [
    {
     "data": {
      "text/plain": [
       "array([0.  , 0.  , 0.04, 0.12, 0.24, 0.4 , 0.6 , 0.84, 1.12, 1.44])"
      ]
     },
     "execution_count": 4,
     "metadata": {},
     "output_type": "execute_result"
    }
   ],
   "source": [
    "call_func(lib.euler, 'sin(x)', 10, 0.2, 0.0, 0.0)"
   ]
  },
  {
   "cell_type": "code",
   "execution_count": null,
   "metadata": {},
   "outputs": [],
   "source": [
    "call_func"
   ]
  },
  {
   "cell_type": "code",
   "execution_count": null,
   "metadata": {},
   "outputs": [],
   "source": []
  }
 ],
 "metadata": {
  "kernelspec": {
   "display_name": "Python 3",
   "language": "python",
   "name": "python3"
  },
  "language_info": {
   "codemirror_mode": {
    "name": "ipython",
    "version": 3
   },
   "file_extension": ".py",
   "mimetype": "text/x-python",
   "name": "python",
   "nbconvert_exporter": "python",
   "pygments_lexer": "ipython3",
   "version": "3.6.9"
  }
 },
 "nbformat": 4,
 "nbformat_minor": 2
}
